{
 "cells": [
  {
   "cell_type": "code",
   "id": "initial_id",
   "metadata": {
    "collapsed": true,
    "ExecuteTime": {
     "end_time": "2025-06-15T14:23:40.662096Z",
     "start_time": "2025-06-15T14:23:40.130341Z"
    }
   },
   "source": [
    "import networkx as nx\n",
    "%load_ext autoreload\n",
    "%autoreload 2\n",
    "\n",
    "from core.GraphCreator import GraphCreator\n",
    "from core.PropagationAlgorithm import Propagation\n"
   ],
   "outputs": [
    {
     "name": "stdout",
     "output_type": "stream",
     "text": [
      "The autoreload extension is already loaded. To reload it, use:\n",
      "  %reload_ext autoreload\n"
     ]
    }
   ],
   "execution_count": 55
  },
  {
   "metadata": {
    "ExecuteTime": {
     "end_time": "2025-06-15T14:29:07.584820Z",
     "start_time": "2025-06-15T14:29:06.672775Z"
    }
   },
   "cell_type": "code",
   "source": [
    "gc = GraphCreator(\"items.txt\", \"recipes.json\")\n",
    "\n",
    "cycles = set()\n",
    "for cycle in nx.strongly_connected_components(gc.originalGraph):\n",
    "    if len(cycle) == 1:\n",
    "        continue\n",
    "    cycles.update(cycle)\n",
    "\n",
    "print(len(gc.getAtoms(filterForInput=False)))\n",
    "\n",
    "print(nx.is_directed_acyclic_graph(gc.G))"
   ],
   "id": "1283991bbb43ef48",
   "outputs": [
    {
     "name": "stdout",
     "output_type": "stream",
     "text": [
      "No output for create:mixing/lava_from_cobble\n",
      "No output for create:mixing/chocolate_melting\n",
      "No output for create:mixing/tea\n",
      "No output for create:mixing/honey\n",
      "No output for create:mixing/chocolate\n",
      "No output for create:mixing/chocolate\n",
      "1069\n",
      "True\n"
     ]
    }
   ],
   "execution_count": 61
  }
 ],
 "metadata": {
  "kernelspec": {
   "display_name": "Python 3",
   "language": "python",
   "name": "python3"
  },
  "language_info": {
   "codemirror_mode": {
    "name": "ipython",
    "version": 2
   },
   "file_extension": ".py",
   "mimetype": "text/x-python",
   "name": "python",
   "nbconvert_exporter": "python",
   "pygments_lexer": "ipython2",
   "version": "2.7.6"
  }
 },
 "nbformat": 4,
 "nbformat_minor": 5
}
